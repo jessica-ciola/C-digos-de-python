{
 "cells": [
  {
   "cell_type": "code",
   "execution_count": null,
   "metadata": {},
   "outputs": [],
   "source": [
    "number = input('Enter a number that is not 0: ')\n",
    "\n",
    "try:\n",
    "    valor = int(number)\n",
    "except:\n",
    "    valor = 0\n",
    "    \n",
    "\n",
    "if valor >0:\n",
    "    print('It is positive')\n",
    "    \n",
    "elif valor<0:\n",
    "    print('It is negative')\n",
    "    \n",
    "else:\n",
    "    print('It is not a number or it is 0')"
   ]
  },
  {
   "cell_type": "code",
   "execution_count": null,
   "metadata": {},
   "outputs": [],
   "source": []
  },
  {
   "cell_type": "code",
   "execution_count": null,
   "metadata": {},
   "outputs": [],
   "source": []
  }
 ],
 "metadata": {
  "kernelspec": {
   "display_name": "Python 3",
   "language": "python",
   "name": "python3"
  },
  "language_info": {
   "codemirror_mode": {
    "name": "ipython",
    "version": 3
   },
   "file_extension": ".py",
   "mimetype": "text/x-python",
   "name": "python",
   "nbconvert_exporter": "python",
   "pygments_lexer": "ipython3",
   "version": "3.8.3"
  }
 },
 "nbformat": 4,
 "nbformat_minor": 4
}
