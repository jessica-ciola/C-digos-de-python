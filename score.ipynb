{
 "cells": [
  {
   "cell_type": "code",
   "execution_count": 1,
   "metadata": {},
   "outputs": [
    {
     "name": "stdout",
     "output_type": "stream",
     "text": [
      "Enter Score: 0.85\n",
      "B\n"
     ]
    }
   ],
   "source": [
    "score = input(\"Enter Score: \")\n",
    "\n",
    "try:\n",
    "    valor = float(score)\n",
    "except:\n",
    "    valor = -1\n",
    "    \n",
    "\n",
    "if valor >= 0.9:\n",
    "    print(\"A\")\n",
    "    \n",
    "    \n",
    "elif valor >= 0.8:\n",
    "    print(\"B\")\n",
    "    \n",
    "    \n",
    "elif valor >= 0.7:\n",
    "    print(\"C\")\n",
    "    \n",
    "    \n",
    "elif valor >= 0.6:\n",
    "    print(\"D\")\n",
    "    \n",
    "\n",
    "elif valor < 0.6:\n",
    "    print(\"F\")\n",
    "    \n",
    "else:\n",
    "    print('Score out of range')"
   ]
  },
  {
   "cell_type": "code",
   "execution_count": null,
   "metadata": {},
   "outputs": [],
   "source": []
  }
 ],
 "metadata": {
  "kernelspec": {
   "display_name": "Python 3",
   "language": "python",
   "name": "python3"
  },
  "language_info": {
   "codemirror_mode": {
    "name": "ipython",
    "version": 3
   },
   "file_extension": ".py",
   "mimetype": "text/x-python",
   "name": "python",
   "nbconvert_exporter": "python",
   "pygments_lexer": "ipython3",
   "version": "3.8.3"
  }
 },
 "nbformat": 4,
 "nbformat_minor": 4
}
