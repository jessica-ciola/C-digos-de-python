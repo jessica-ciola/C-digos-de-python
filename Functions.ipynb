{
 "cells": [
  {
   "cell_type": "code",
   "execution_count": 1,
   "metadata": {},
   "outputs": [
    {
     "name": "stdout",
     "output_type": "stream",
     "text": [
      "Hello\n"
     ]
    }
   ],
   "source": [
    "def stuff():\n",
    "    print('Hello')\n",
    "    return\n",
    "    print('World')\n",
    "\n",
    "stuff()"
   ]
  },
  {
   "cell_type": "code",
   "execution_count": null,
   "metadata": {},
   "outputs": [],
   "source": [
    "def computepay(h,r):\n",
    "    \n",
    "    if h<=40:\n",
    "        pay = h*r\n",
    "            \n",
    "    else:\n",
    "        pay1 = 40*r\n",
    "        pay2 = (h-40)*r*1.5\n",
    "        pay = pay1+pay2\n",
    "        \n",
    "    return pay\n",
    "        \n",
    "    \n",
    "       \n",
    "\n",
    "hrs = input(\"Enter Hours:\")\n",
    "h = float(hrs)\n",
    "\n",
    "hr = input(\"Enter Rate:\")\n",
    "rate = float(hr)\n",
    "\n",
    "\n",
    "p = computepay(h,rate)\n",
    "print(\"Pay\",p)"
   ]
  }
 ],
 "metadata": {
  "kernelspec": {
   "display_name": "Python 3",
   "language": "python",
   "name": "python3"
  },
  "language_info": {
   "codemirror_mode": {
    "name": "ipython",
    "version": 3
   },
   "file_extension": ".py",
   "mimetype": "text/x-python",
   "name": "python",
   "nbconvert_exporter": "python",
   "pygments_lexer": "ipython3",
   "version": "3.8.3"
  }
 },
 "nbformat": 4,
 "nbformat_minor": 4
}
