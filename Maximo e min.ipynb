{
 "cells": [
  {
   "cell_type": "code",
   "execution_count": 1,
   "metadata": {},
   "outputs": [
    {
     "name": "stdout",
     "output_type": "stream",
     "text": [
      "Enter a number: 5\n",
      "Enter a number: 10\n",
      "Enter a number: 15\n",
      "Enter a number: 80\n",
      "Enter a number: -7\n",
      "Enter a number: dtrfi7t\n",
      "Invalid input\n",
      "Enter a number: 7.5\n",
      "Invalid input\n",
      "Enter a number: 7,5\n",
      "Invalid input\n",
      "Enter a number: 800\n",
      "Enter a number: done\n",
      "Maximum is 800\n",
      "Minimum is -7\n"
     ]
    }
   ],
   "source": [
    "largest = None\n",
    "smallest = None\n",
    "\n",
    "\n",
    "while True:\n",
    "    num = input(\"Enter a number: \")\n",
    "    \n",
    "    \n",
    "    if num == \"done\" : break\n",
    "        \n",
    "        \n",
    "        \n",
    "        \n",
    "        \n",
    "    try:\n",
    "        num = int(num)\n",
    "    except:\n",
    "        print('Invalid input')\n",
    "        continue\n",
    "        \n",
    "        \n",
    "        \n",
    "        \n",
    "    if largest is None:\n",
    "        largest = num\n",
    "        \n",
    "    elif num > largest:\n",
    "        largest = num\n",
    "        \n",
    "    \n",
    "    \n",
    "    if smallest is None:\n",
    "        smallest = num\n",
    "        \n",
    "    elif num < smallest:\n",
    "        smallest = num\n",
    "    \n",
    "    \n",
    "\n",
    "print(\"Maximum is\", largest)\n",
    "print(\"Minimum is\", smallest)"
   ]
  },
  {
   "cell_type": "code",
   "execution_count": null,
   "metadata": {},
   "outputs": [],
   "source": []
  }
 ],
 "metadata": {
  "kernelspec": {
   "display_name": "Python 3",
   "language": "python",
   "name": "python3"
  },
  "language_info": {
   "codemirror_mode": {
    "name": "ipython",
    "version": 3
   },
   "file_extension": ".py",
   "mimetype": "text/x-python",
   "name": "python",
   "nbconvert_exporter": "python",
   "pygments_lexer": "ipython3",
   "version": "3.8.3"
  }
 },
 "nbformat": 4,
 "nbformat_minor": 4
}
